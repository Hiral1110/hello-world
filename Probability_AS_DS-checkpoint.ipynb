{
 "cells": [
  {
   "cell_type": "code",
   "execution_count": 4,
   "id": "ee6295c6-d676-4fdd-bfb9-891b424d00e8",
   "metadata": {},
   "outputs": [
    {
     "data": {
      "text/plain": [
       "\"1. Write a Python program to simulate the following scenarios:  \\n  a. Tossing a coin 10,000 times and calculating the experimental probability of heads and tails.  \\n  b. Rolling two dice and computing the probability of getting a sum of 7.  \\n  Steps  \\n      a. Use Python's random module for simulations.  \\n      b. Implement loops for repeated trials.  \\n      c. Track outcomes and compute probabilities. \\n\""
      ]
     },
     "execution_count": 4,
     "metadata": {},
     "output_type": "execute_result"
    }
   ],
   "source": [
    "\"\"\"1. Write a Python program to simulate the following scenarios:  \n",
    "  a. Tossing a coin 10,000 times and calculating the experimental probability of heads and tails.  \n",
    "  b. Rolling two dice and computing the probability of getting a sum of 7.  \n",
    "  Steps  \n",
    "      a. Use Python's random module for simulations.  \n",
    "      b. Implement loops for repeated trials.  \n",
    "      c. Track outcomes and compute probabilities. \n",
    "\"\"\""
   ]
  },
  {
   "cell_type": "code",
   "execution_count": 5,
   "id": "2ba84412-4582-44e2-a501-64646a8f2f1e",
   "metadata": {},
   "outputs": [
    {
     "name": "stdout",
     "output_type": "stream",
     "text": [
      "Experimental Probability of Heads: 0.5009\n",
      "Experimental Probability of Tails: 0.4991\n",
      "Experimental Probability of Sum=7: 0.1726\n"
     ]
    }
   ],
   "source": [
    "import random\n",
    "\n",
    "# Simulate coin tosses\n",
    "def simulate_coin_tosses(n):\n",
    "    heads = sum(1 for _ in range(n) if random.choice([\"Heads\", \"Tails\"]) == \"Heads\")\n",
    "    tails = n - heads\n",
    "    print(f\"Experimental Probability of Heads: {heads / n:.4f}\")\n",
    "    print(f\"Experimental Probability of Tails: {tails / n:.4f}\")\n",
    "\n",
    "# Simulate rolling two dice\n",
    "def simulate_dice_rolls(n):\n",
    "    sum_seven = sum(1 for _ in range(n) if random.randint(1, 6) + random.randint(1, 6) == 7)\n",
    "    print(f\"Experimental Probability of Sum=7: {sum_seven / n:.4f}\")\n",
    "\n",
    "# Running simulations\n",
    "simulate_coin_tosses(10000)\n",
    "simulate_dice_rolls(10000)\n"
   ]
  },
  {
   "cell_type": "code",
   "execution_count": 24,
   "id": "f2b98565-ef04-4378-93ae-62fb474f2802",
   "metadata": {},
   "outputs": [
    {
     "data": {
      "text/plain": [
       "'\\nExplanation:\\nCoin Toss Simulation:\\nUses random.choice([\"Heads\", \"Tails\"]) to simulate each toss.\\nCounts occurrences of \"Heads\" and \"Tails\" over 10,000 trials.\\nComputes the probability of each outcome.\\nDice Rolling Simulation:\\nUses random.randint(1, 6) twice to roll two dice.\\nChecks how often their sum equals 7 over 10,000 trials.\\nComputes the probability based on observed frequencies.\\n\\n\\n2. Write a function to estimate the probability of getting at least one \"6\" in 10 rolls of a fair die.  \\n  Steps  \\n      a. Simulate rolling a die 10 times using a loop.  \\n      b. Track trials where at least one \"6\" occurs.  \\n      c. Calculate the proportion of successful trials.\\n'"
      ]
     },
     "execution_count": 24,
     "metadata": {},
     "output_type": "execute_result"
    }
   ],
   "source": [
    "\"\"\"\n",
    "Explanation:\n",
    "Coin Toss Simulation:\n",
    "Uses random.choice([\"Heads\", \"Tails\"]) to simulate each toss.\n",
    "Counts occurrences of \"Heads\" and \"Tails\" over 10,000 trials.\n",
    "Computes the probability of each outcome.\n",
    "Dice Rolling Simulation:\n",
    "Uses random.randint(1, 6) twice to roll two dice.\n",
    "Checks how often their sum equals 7 over 10,000 trials.\n",
    "Computes the probability based on observed frequencies.\n",
    "\n",
    "\n",
    "2. Write a function to estimate the probability of getting at least one \"6\" in 10 rolls of a fair die.  \n",
    "  Steps  \n",
    "      a. Simulate rolling a die 10 times using a loop.  \n",
    "      b. Track trials where at least one \"6\" occurs.  \n",
    "      c. Calculate the proportion of successful trials.\n",
    "\"\"\""
   ]
  },
  {
   "cell_type": "code",
   "execution_count": 7,
   "id": "1e035b85-e589-4c70-91c0-45956be2cb51",
   "metadata": {},
   "outputs": [
    {
     "name": "stdout",
     "output_type": "stream",
     "text": [
      "Estimated Probability of getting at least one '6' in 10 rolls: 0.8376\n"
     ]
    }
   ],
   "source": [
    "import random\n",
    "\n",
    "def estimate_probability(trials=10000):\n",
    "    success_count = sum(1 for _ in range(trials) if 6 in [random.randint(1, 6) for _ in range(10)])\n",
    "    probability = success_count / trials\n",
    "    return probability\n",
    "\n",
    "# Running the simulation\n",
    "estimated_prob = estimate_probability()\n",
    "print(f\"Estimated Probability of getting at least one '6' in 10 rolls: {estimated_prob:.4f}\")\n"
   ]
  },
  {
   "cell_type": "code",
   "execution_count": 13,
   "id": "866a544e-d169-4fa8-8444-09aa6506b815",
   "metadata": {},
   "outputs": [
    {
     "data": {
      "text/plain": [
       "\"\\n3. A bag contains 5 red, 7 green, and 8 blue balls. A ball is drawn randomly, its color noted, and it is put back into the bag. If this process is repeated 1000 times, write a Python program to estimate:  \\n  a. The probability of drawing a red ball given that the previous ball was blue.  \\n  b. Verify Bayes' theorem with the simulation results.  \\n\\n\\nSteps  \\n    a. Use random sampling to simulate the process.  \\n    b. Compute conditional probabilities directly from the data.  \\n\""
      ]
     },
     "execution_count": 13,
     "metadata": {},
     "output_type": "execute_result"
    }
   ],
   "source": [
    "\"\"\"\n",
    "Explanation:\n",
    "Rolling the Die: Uses random.randint(1, 6) to simulate rolling a fair die 10 times.\n",
    "Tracking Success: Checks if at least one \"6\" appears in each trial.\n",
    "Computing Probability: Counts successful trials and divides by total trials.\n",
    "Would you like to visualize the results with a histogram or refine the simulation further?\n",
    "\"\"\"\n",
    "\"\"\"\n",
    "3. A bag contains 5 red, 7 green, and 8 blue balls. A ball is drawn randomly, its color noted, and it is put back into the bag. If this process is repeated 1000 times, write a Python program to estimate:  \n",
    "  a. The probability of drawing a red ball given that the previous ball was blue.  \n",
    "  b. Verify Bayes' theorem with the simulation results.  \n",
    "\n",
    "\n",
    "Steps  \n",
    "    a. Use random sampling to simulate the process.  \n",
    "    b. Compute conditional probabilities directly from the data.  \n",
    "\"\"\""
   ]
  },
  {
   "cell_type": "code",
   "execution_count": 9,
   "id": "e374ea07-057c-4192-bf9b-8cd20a377bf5",
   "metadata": {},
   "outputs": [
    {
     "name": "stdout",
     "output_type": "stream",
     "text": [
      "Estimated P(Red | Blue): 0.2493\n",
      "Bayes' Theorem Verification: 0.2493\n"
     ]
    }
   ],
   "source": [
    "import random\n",
    "\n",
    "def simulate_ball_draws(trials=1000):\n",
    "    colors = [\"Red\"] * 5 + [\"Green\"] * 7 + [\"Blue\"] * 8  # Bag composition\n",
    "    draws = [random.choice(colors) for _ in range(trials)]  # Simulate draws\n",
    "    \n",
    "    # Count occurrences where previous ball was blue and current ball is red\n",
    "    blue_red_count = sum(1 for i in range(1, trials) if draws[i-1] == \"Blue\" and draws[i] == \"Red\")\n",
    "    blue_count = sum(1 for i in range(trials-1) if draws[i] == \"Blue\")  # Count times blue was drawn\n",
    "\n",
    "    # Compute conditional probability P(Red | Blue)\n",
    "    conditional_prob = blue_red_count / blue_count if blue_count > 0 else 0\n",
    "    print(f\"Estimated P(Red | Blue): {conditional_prob:.4f}\")\n",
    "\n",
    "    # Bayes' theorem verification\n",
    "    p_red = draws.count(\"Red\") / trials\n",
    "    p_blue = draws.count(\"Blue\") / trials\n",
    "    p_blue_given_red = blue_red_count / draws.count(\"Red\") if draws.count(\"Red\") > 0 else 0\n",
    "    bayes_prob = (p_blue_given_red * p_red) / p_blue if p_blue > 0 else 0\n",
    "\n",
    "    print(f\"Bayes' Theorem Verification: {bayes_prob:.4f}\")\n",
    "\n",
    "# Run simulation\n",
    "simulate_ball_draws()\n"
   ]
  },
  {
   "cell_type": "code",
   "execution_count": 25,
   "id": "7201baac-4b1c-47a9-a497-87e56c5b3a64",
   "metadata": {},
   "outputs": [
    {
     "data": {
      "text/plain": [
       "\" Explaination :\\nSimulating Ball Draws:\\nCreates a list representing the bag's composition.\\nRandomly selects a ball 1000 times.\\nComputing Conditional Probability:\\nTracks cases where a blue ball was followed by a red ball.\\nComputes P(Red | Blue) = Count(Red after Blue) / Count(Blue).\\nVerifying Bayes' Theorem:\\nUses P(Blue | Red), P(Red), and P(Blue) to verify Bayes' formula.\\n\""
      ]
     },
     "execution_count": 25,
     "metadata": {},
     "output_type": "execute_result"
    }
   ],
   "source": [
    "\"\"\" Explaination :\n",
    "Simulating Ball Draws:\n",
    "Creates a list representing the bag's composition.\n",
    "Randomly selects a ball 1000 times.\n",
    "Computing Conditional Probability:\n",
    "Tracks cases where a blue ball was followed by a red ball.\n",
    "Computes P(Red | Blue) = Count(Red after Blue) / Count(Blue).\n",
    "Verifying Bayes' Theorem:\n",
    "Uses P(Blue | Red), P(Red), and P(Blue) to verify Bayes' formula.\n",
    "\"\"\""
   ]
  },
  {
   "cell_type": "code",
   "execution_count": 14,
   "id": "dbec35b2-5081-4f0c-bd38-10c579f154de",
   "metadata": {},
   "outputs": [
    {
     "data": {
      "text/plain": [
       "'Random Variables and Discrete Probability\\n\\n\\n4. Generate a sample of size 1000 from a discrete random variable with the following distribution:  \\n  - P(X=1) = 0.25  \\n  - P(X=2) = 0.35  \\n  - P(X=3) = 0.4  \\n  Compute the empirical mean, variance, and standard deviation of the sample.  \\n  Steps  \\n      a. Use numpy.random.choice() to generate the sample.  \\n      b. Use numpy methods to calculate mean, variance, and standard deviation.\\n'"
      ]
     },
     "execution_count": 14,
     "metadata": {},
     "output_type": "execute_result"
    }
   ],
   "source": [
    "\"\"\"Random Variables and Discrete Probability\n",
    "\n",
    "\n",
    "4. Generate a sample of size 1000 from a discrete random variable with the following distribution:  \n",
    "  - P(X=1) = 0.25  \n",
    "  - P(X=2) = 0.35  \n",
    "  - P(X=3) = 0.4  \n",
    "  Compute the empirical mean, variance, and standard deviation of the sample.  \n",
    "  Steps  \n",
    "      a. Use numpy.random.choice() to generate the sample.  \n",
    "      b. Use numpy methods to calculate mean, variance, and standard deviation.\n",
    "\"\"\""
   ]
  },
  {
   "cell_type": "code",
   "execution_count": 15,
   "id": "b215b4bc-d16b-4879-8029-8ed5e242cc99",
   "metadata": {},
   "outputs": [
    {
     "name": "stdout",
     "output_type": "stream",
     "text": [
      "Empirical Mean: 2.1530\n",
      "Empirical Variance: 0.6176\n",
      "Empirical Standard Deviation: 0.7859\n"
     ]
    }
   ],
   "source": [
    "import numpy as np\n",
    "\n",
    "# Define possible values and their probabilities\n",
    "values = [1, 2, 3]\n",
    "probabilities = [0.25, 0.35, 0.4]\n",
    "\n",
    "# Generate a random sample of size 1000\n",
    "sample = np.random.choice(values, size=1000, p=probabilities)\n",
    "\n",
    "# Compute empirical mean, variance, and standard deviation\n",
    "mean = np.mean(sample)\n",
    "variance = np.var(sample)\n",
    "std_dev = np.std(sample)\n",
    "\n",
    "# Display results\n",
    "print(f\"Empirical Mean: {mean:.4f}\")\n",
    "print(f\"Empirical Variance: {variance:.4f}\")\n",
    "print(f\"Empirical Standard Deviation: {std_dev:.4f}\")\n"
   ]
  },
  {
   "cell_type": "code",
   "execution_count": 23,
   "id": "60d73e9d-c67c-42a4-8002-a4f7db278d4d",
   "metadata": {},
   "outputs": [
    {
     "data": {
      "text/plain": [
       "'Explanation:\\nGenerating the Sample:\\nUses numpy.random.choice() to randomly select values based on given probabilities.\\nThe sample size is set to 1000.\\nComputing Statistics:\\nnp.mean(sample): Calculates the empirical mean.\\nnp.var(sample): Computes the variance.\\nnp.std(sample): Determines the standard deviation.\\n'"
      ]
     },
     "execution_count": 23,
     "metadata": {},
     "output_type": "execute_result"
    }
   ],
   "source": [
    "\"\"\"Explanation:\n",
    "Generating the Sample:\n",
    "Uses numpy.random.choice() to randomly select values based on given probabilities.\n",
    "The sample size is set to 1000.\n",
    "Computing Statistics:\n",
    "np.mean(sample): Calculates the empirical mean.\n",
    "np.var(sample): Computes the variance.\n",
    "np.std(sample): Determines the standard deviation.\n",
    "\"\"\""
   ]
  },
  {
   "cell_type": "code",
   "execution_count": 17,
   "id": "26564782-42a3-4216-9e6a-c1982fc24d41",
   "metadata": {},
   "outputs": [
    {
     "data": {
      "text/plain": [
       "'5. Simulate 2000 random samples from an exponential distribution with a mean of 5. Visualize the distribution using:  \\n  a. A histogram.  \\n  b. A probability density function (PDF) overlay.  \\n  Steps  \\n      a. Use numpy.random.exponential().  \\n      b. Use matplotlib to create visualizations.  \\n'"
      ]
     },
     "execution_count": 17,
     "metadata": {},
     "output_type": "execute_result"
    }
   ],
   "source": [
    "\"\"\"5. Simulate 2000 random samples from an exponential distribution with a mean of 5. Visualize the distribution using:  \n",
    "  a. A histogram.  \n",
    "  b. A probability density function (PDF) overlay.  \n",
    "  Steps  \n",
    "      a. Use numpy.random.exponential().  \n",
    "      b. Use matplotlib to create visualizations.  \n",
    "\"\"\""
   ]
  },
  {
   "cell_type": "code",
   "execution_count": 18,
   "id": "ba658c03-ecbc-4170-a485-56155f1a7a7f",
   "metadata": {},
   "outputs": [
    {
     "data": {
      "image/png": "[encoded data removed]",
      "text/plain": [
       "<Figure size 640x480 with 1 Axes>"
      ]
     },
     "metadata": {},
     "output_type": "display_data"
    }
   ],
   "source": [
    "import numpy as np\n",
    "import matplotlib.pyplot as plt\n",
    "import scipy.stats as stats\n",
    "\n",
    "# Generate 2000 random samples from an exponential distribution with mean = 5\n",
    "scale_param = 5  # Mean of exponential distribution\n",
    "samples = np.random.exponential(scale=scale_param, size=2000)\n",
    "\n",
    "# Plot histogram\n",
    "plt.hist(samples, bins=50, density=True, alpha=0.6, color='blue', label=\"Histogram\")\n",
    "\n",
    "# Overlay PDF\n",
    "x = np.linspace(0, max(samples), 100)\n",
    "pdf_values = stats.expon.pdf(x, scale=scale_param)\n",
    "plt.plot(x, pdf_values, 'r-', lw=2, label=\"Exponential PDF\")\n",
    "\n",
    "# Labels and title\n",
    "plt.xlabel(\"Value\")\n",
    "plt.ylabel(\"Density\")\n",
    "plt.title(\"Exponential Distribution (Mean = 5)\")\n",
    "plt.legend()\n",
    "plt.show()\n"
   ]
  },
  {
   "cell_type": "code",
   "execution_count": 22,
   "id": "b5832788-1851-42a8-9b9e-5713d5a68be9",
   "metadata": {},
   "outputs": [
    {
     "data": {
      "text/plain": [
       "'Explanation:\\nGenerating Samples:\\nUses numpy.random.exponential(scale=5, size=2000) to create 2000 random values.\\nThe scale parameter represents the mean of the distribution.\\nHistogram Visualization:\\nUses plt.hist() with density=True to normalize the histogram.\\nOverlaying the PDF:\\nComputes the theoretical exponential PDF using scipy.stats.expon.pdf().\\nPlots the PDF curve over the histogram. \\n'"
      ]
     },
     "execution_count": 22,
     "metadata": {},
     "output_type": "execute_result"
    }
   ],
   "source": [
    "\"\"\"Explanation:\n",
    "Generating Samples:\n",
    "Uses numpy.random.exponential(scale=5, size=2000) to create 2000 random values.\n",
    "The scale parameter represents the mean of the distribution.\n",
    "Histogram Visualization:\n",
    "Uses plt.hist() with density=True to normalize the histogram.\n",
    "Overlaying the PDF:\n",
    "Computes the theoretical exponential PDF using scipy.stats.expon.pdf().\n",
    "Plots the PDF curve over the histogram. \n",
    "\"\"\""
   ]
  },
  {
   "cell_type": "code",
   "execution_count": 20,
   "id": "a03e8784-8144-4de8-b632-555cc0017e1e",
   "metadata": {},
   "outputs": [
    {
     "data": {
      "text/plain": [
       "'\\n6. Simulate the Central Limit Theorem by following these steps  \\n  a. Generate 10,000 random numbers from a uniform distribution.  \\n  b. Draw 1000 samples of size n = 30.  \\n  c. Calculate and visualize the distribution of sample means.  \\n  Steps  \\n      a. Use numpy.random.uniform().  \\n      b. Plot both the uniform distribution and the sample mean distribution for comparison.\\n'"
      ]
     },
     "execution_count": 20,
     "metadata": {},
     "output_type": "execute_result"
    }
   ],
   "source": [
    "\"\"\"\n",
    "6. Simulate the Central Limit Theorem by following these steps  \n",
    "  a. Generate 10,000 random numbers from a uniform distribution.  \n",
    "  b. Draw 1000 samples of size n = 30.  \n",
    "  c. Calculate and visualize the distribution of sample means.  \n",
    "  Steps  \n",
    "      a. Use numpy.random.uniform().  \n",
    "      b. Plot both the uniform distribution and the sample mean distribution for comparison.\n",
    "\"\"\""
   ]
  },
  {
   "cell_type": "code",
   "execution_count": 21,
   "id": "73f94b49-9d69-4071-a359-90712c7c110b",
   "metadata": {},
   "outputs": [
    {
     "data": {
      "image/png": "[encoded data removed]",
      "text/plain": [
       "<Figure size 1200x500 with 2 Axes>"
      ]
     },
     "metadata": {},
     "output_type": "display_data"
    }
   ],
   "source": [
    "import numpy as np\n",
    "import matplotlib.pyplot as plt\n",
    "\n",
    "# Step 1: Generate 10,000 random numbers from a uniform distribution\n",
    "uniform_data = np.random.uniform(0, 1, 10000)\n",
    "\n",
    "# Step 2: Draw 1000 samples of size n = 30 and compute sample means\n",
    "sample_means = [np.mean(np.random.uniform(0, 1, 30)) for _ in range(1000)]\n",
    "\n",
    "# Step 3: Visualize the distributions\n",
    "plt.figure(figsize=(12, 5))\n",
    "\n",
    "# Plot uniform distribution\n",
    "plt.subplot(1, 2, 1)\n",
    "plt.hist(uniform_data, bins=50, density=True, alpha=0.6, color='blue')\n",
    "plt.title(\"Uniform Distribution (Original Data)\")\n",
    "plt.xlabel(\"Value\")\n",
    "plt.ylabel(\"Density\")\n",
    "\n",
    "# Plot sample mean distribution\n",
    "plt.subplot(1, 2, 2)\n",
    "plt.hist(sample_means, bins=50, density=True, alpha=0.6, color='red')\n",
    "plt.title(\"Distribution of Sample Means (Central Limit Theorem)\")\n",
    "plt.xlabel(\"Sample Mean\")\n",
    "plt.ylabel(\"Density\")\n",
    "\n",
    "plt.tight_layout()\n",
    "plt.show()\n"
   ]
  },
  {
   "cell_type": "code",
   "execution_count": null,
   "id": "2561f53b-6217-4367-aa3e-26cc249cb76c",
   "metadata": {},
   "outputs": [],
   "source": [
    "\"\"\"Explanation:\n",
    "Generating Uniform Data:\n",
    "Uses numpy.random.uniform(0, 1, 10000) to create 10,000 random values.\n",
    "Sampling and Computing Means:\n",
    "Draws 1000 samples of size 30.\n",
    "Computes the mean of each sample.\n",
    "Visualization:\n",
    "The first histogram shows the original uniform distribution.\n",
    "The second histogram illustrates the sample mean distribution, which should approximate a normal distribution.\"\"\""
   ]
  }
 ],
 "metadata": {
  "kernelspec": {
   "display_name": "Python [conda env:base] *",
   "language": "python",
   "name": "conda-base-py"
  },
  "language_info": {
   "codemirror_mode": {
    "name": "ipython",
    "version": 3
   },
   "file_extension": ".py",
   "mimetype": "text/x-python",
   "name": "python",
   "nbconvert_exporter": "python",
   "pygments_lexer": "ipython3",
   "version": "3.12.7"
  }
 },
 "nbformat": 4,
 "nbformat_minor": 5
}
